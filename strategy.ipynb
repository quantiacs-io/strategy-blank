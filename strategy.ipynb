{
 "cells": [
  {
   "cell_type": "markdown",
   "metadata": {},
   "source": [
    "# Blank Template for Developing"
   ]
  },
  {
   "cell_type": "code",
   "execution_count": null,
   "metadata": {},
   "outputs": [],
   "source": [
    "%%javascript\n",
    "IPython.OutputArea.prototype._should_scroll = function(lines) { return false; }\n",
    "// disable widget scrolling"
   ]
  },
  {
   "cell_type": "code",
   "execution_count": null,
   "metadata": {},
   "outputs": [],
   "source": [
    "# Multi-Pass implementation\n",
    "\n",
    "import xarray as xr\n",
    "\n",
    "import qnt.ta as qnta\n",
    "import qnt.backtester as qnbt\n",
    "import qnt.data as qndata\n",
    "\n",
    "\n",
    "def load_data(period):\n",
    "    return qndata.cryptodaily_load_data(tail = period, dims = (\"time\", \"field\", \"asset\"))\n",
    "    # return qndata.cryptofutures.load_data(tail = period, dims = (\"time\", \"field\", \"asset\"))\n",
    "    # return qndata.stocks.load_data(tail = period, dims = (\"time\", \"field\", \"asset\"))\n",
    "\n",
    "\n",
    "def strategy(data):\n",
    "    close = data.sel(field='close')\n",
    "    ma_slow = close.rolling(time=200).mean().isel(time=-1) # qnta.sma(close, 200).isel(time=-1)\n",
    "    ma_fast = close.rolling(time=20).mean().isel(time=-1) # qnta.sma(close, 20).isel(time=-1)\n",
    "    weights  = xr.where(ma_slow < ma_fast, 1, 0)\n",
    "    \n",
    "    is_liquid = data.sel(field=\"is_liquid\") # this field tags cryptocurrencies which, at a given point in time,\n",
    "                                            # are among the 10 ones with the largest market capitalization\n",
    "    weights  = weights * is_liquid\n",
    "    weights = weights / 10.0\n",
    "    return weights\n",
    "\n",
    "\n",
    "weights = qnbt.backtest(\n",
    "    competition_type=\"crypto_daily_long\", # 'futures', 'cryptofutures', 'stocks'\n",
    "    load_data=load_data,\n",
    "    lookback_period=365,\n",
    "    start_date='2014-01-01',\n",
    "    strategy=strategy\n",
    ")\n"
   ]
  },
  {
   "cell_type": "markdown",
   "metadata": {},
   "source": [
    "```python\n",
    "# Single-pass implementation (for prototyping)\n",
    "\n",
    "import xarray as xr\n",
    "\n",
    "import qnt.ta as qnta\n",
    "import qnt.stats as qns\n",
    "import qnt.data as qndata\n",
    "import qnt.output as qnout\n",
    "\n",
    "# load data\n",
    "data = qndata.cryptodaily_load_data(min_date='2013-05-01')\n",
    "\n",
    "#calc weights\n",
    "close = data.sel(field='close')\n",
    "ma_slow = close.rolling(time=200).mean() #  qnta.sma(close, 200)\n",
    "ma_fast = close.rolling(time=20).mean() # qnta.sma(close, 200)\n",
    "weights = xr.where(ma_fast > ma_slow, 1, 0)\n",
    "\n",
    "\n",
    "is_liquid = data.sel(field=\"is_liquid\") # this field tags cryptocurrencies which, at a given point in time,\n",
    "                                        # are among the 10 ones with the largest market capitalization\n",
    "weights = weights * is_liquid\n",
    "weights = weights / 10.0\n",
    "\n",
    "weights = qnout.clean(weights, data, \"crypto_daily_long\")\n",
    "\n",
    "#check\n",
    "qnout.check(weights, data, \"crypto_daily_long\")\n",
    "\n",
    "# write results\n",
    "qnout.write(weights)\n",
    "\n",
    "# calc stats\n",
    "stats = qns.calc_stat(data, weights.sel(time=slice('2014-01-01',None)))\n",
    "stats.to_pandas().tail()\n",
    "```"
   ]
  }
 ],
 "metadata": {
  "kernelspec": {
   "display_name": "Python 3",
   "language": "python",
   "name": "python3"
  },
  "language_info": {
   "codemirror_mode": {
    "name": "ipython",
    "version": 3
   },
   "file_extension": ".py",
   "mimetype": "text/x-python",
   "name": "python",
   "nbconvert_exporter": "python",
   "pygments_lexer": "ipython3",
   "version": "3.7.10"
  }
 },
 "nbformat": 4,
 "nbformat_minor": 4
}
