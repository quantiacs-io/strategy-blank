{
 "cells": [
  {
   "cell_type": "markdown",
   "metadata": {},
   "source": [
    "# Blank Template for Developing"
   ]
  },
  {
   "cell_type": "code",
   "execution_count": null,
   "metadata": {},
   "outputs": [],
   "source": [
    "import xarray as xr\n",
    "import numpy as np\n",
    "import pandas as pd\n",
    "\n",
    "import qnt.data     as qndata\n",
    "import qnt.stepper  as qnstepper\n",
    "import qnt.stats    as qnstats\n",
    "import qnt.graph    as qngraph\n",
    "import qnt.output   as qnout\n",
    "import qnt.exposure as qne"
   ]
  },
  {
   "cell_type": "code",
   "execution_count": null,
   "metadata": {},
   "outputs": [],
   "source": [
    "#load data\n",
    "data = qndata.futures.load_data(tail = 8*365, dims = (\"time\", \"field\", \"asset\"))\n",
    "# data = qndata.cryptofutures.load_data(tail = 8*365, dims = (\"time\", \"field\", \"asset\"))\n",
    "# data = qndata.crypto.load_data(tail = 8*365, dims = (\"time\", \"field\", \"asset\"))\n",
    "# data = qndata.stocks.load_data(tail = 8*365, dims = (\"time\", \"field\", \"asset\"))"
   ]
  },
  {
   "cell_type": "code",
   "execution_count": null,
   "metadata": {},
   "outputs": [],
   "source": [
    "output = xr.ones_like(data.sel(field='close'))\n",
    "# output = output*data.sel(field='is_liquid') # for stocks only"
   ]
  },
  {
   "cell_type": "code",
   "execution_count": null,
   "metadata": {},
   "outputs": [],
   "source": [
    "output = qnout.clean(output, data) # removes errors from the output\n",
    "# ensure that there are no red warnings"
   ]
  },
  {
   "cell_type": "code",
   "execution_count": null,
   "metadata": {},
   "outputs": [],
   "source": [
    "# check output\n",
    "qnout.check(output, data)"
   ]
  },
  {
   "cell_type": "code",
   "execution_count": null,
   "metadata": {},
   "outputs": [],
   "source": [
    "# display statistic\n",
    "# stat = qnstats.calc_stat(data, output)\n",
    "# display(stat.to_pandas().tail())"
   ]
  },
  {
   "cell_type": "code",
   "execution_count": null,
   "metadata": {},
   "outputs": [],
   "source": [
    "# write output data\n",
    "qnout.write(output)"
   ]
  }
 ],
 "metadata": {
  "kernelspec": {
   "display_name": "Python 3",
   "language": "python",
   "name": "python3"
  },
  "language_info": {
   "codemirror_mode": {
    "name": "ipython",
    "version": 3
   },
   "file_extension": ".py",
   "mimetype": "text/x-python",
   "name": "python",
   "nbconvert_exporter": "python",
   "pygments_lexer": "ipython3",
   "version": "3.7.6"
  }
 },
 "nbformat": 4,
 "nbformat_minor": 4
}
